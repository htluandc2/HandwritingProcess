{
 "cells": [
  {
   "cell_type": "code",
   "execution_count": 2,
   "metadata": {},
   "outputs": [],
   "source": [
    "import os\n",
    "import sys\n",
    "\n",
    "if not \"SimpleHTR/src\" in sys.path:\n",
    "    sys.path.append(\"SimpleHTR/src\")\n",
    "if not \"WordSegmentation/src\" in sys.path:\n",
    "    sys.path.append(\"WordSegmentation/src\")\n",
    "if not \"CTCWordBeamSearch/py\" in sys.path:\n",
    "    sys.path.append(\"CTCWordBeamSearch/py\")"
   ]
  },
  {
   "cell_type": "code",
   "execution_count": null,
   "metadata": {},
   "outputs": [],
   "source": []
  }
 ],
 "metadata": {
  "kernelspec": {
   "display_name": "Python 3",
   "language": "python",
   "name": "python3"
  },
  "language_info": {
   "codemirror_mode": {
    "name": "ipython",
    "version": 3
   },
   "file_extension": ".py",
   "mimetype": "text/x-python",
   "name": "python",
   "nbconvert_exporter": "python",
   "pygments_lexer": "ipython3",
   "version": "3.6.5"
  }
 },
 "nbformat": 4,
 "nbformat_minor": 2
}
